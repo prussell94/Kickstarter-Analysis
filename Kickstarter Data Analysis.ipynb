{
 "cells": [
  {
   "cell_type": "code",
   "execution_count": 6,
   "metadata": {},
   "outputs": [],
   "source": [
    "import numpy as np\n",
    "import pandas as pd\n",
    "import seaborn as sns\n",
    "import matplotlib as mpl\n",
    "import matplotlib.pyplot as plt\n",
    "import statsmodels.api as sm\n",
    "from statsmodels.tsa.seasonal import seasonal_decompose\n",
    "import matplotlib.dates as mdates\n",
    "from matplotlib.dates import DateFormatter\n",
    "from datetime import datetime\n",
    "from scipy import stats"
   ]
  },
  {
   "cell_type": "code",
   "execution_count": null,
   "metadata": {},
   "outputs": [],
   "source": [
    "kickstarter = pd.read_csv('ks-projects-201801.csv', parse_dates = True)"
   ]
  },
  {
   "cell_type": "code",
   "execution_count": 7,
   "metadata": {},
   "outputs": [
    {
     "data": {
      "text/html": [
       "<div>\n",
       "<style scoped>\n",
       "    .dataframe tbody tr th:only-of-type {\n",
       "        vertical-align: middle;\n",
       "    }\n",
       "\n",
       "    .dataframe tbody tr th {\n",
       "        vertical-align: top;\n",
       "    }\n",
       "\n",
       "    .dataframe thead th {\n",
       "        text-align: right;\n",
       "    }\n",
       "</style>\n",
       "<table border=\"1\" class=\"dataframe\">\n",
       "  <thead>\n",
       "    <tr style=\"text-align: right;\">\n",
       "      <th></th>\n",
       "      <th>ID</th>\n",
       "      <th>name</th>\n",
       "      <th>category</th>\n",
       "      <th>main_category</th>\n",
       "      <th>currency</th>\n",
       "      <th>deadline</th>\n",
       "      <th>goal</th>\n",
       "      <th>launched</th>\n",
       "      <th>pledged</th>\n",
       "      <th>state</th>\n",
       "      <th>backers</th>\n",
       "      <th>country</th>\n",
       "      <th>usd pledged</th>\n",
       "      <th>usd_pledged_real</th>\n",
       "      <th>usd_goal_real</th>\n",
       "    </tr>\n",
       "  </thead>\n",
       "  <tbody>\n",
       "    <tr>\n",
       "      <th>0</th>\n",
       "      <td>1000002330</td>\n",
       "      <td>The Songs of Adelaide &amp; Abullah</td>\n",
       "      <td>Poetry</td>\n",
       "      <td>Publishing</td>\n",
       "      <td>GBP</td>\n",
       "      <td>2015-10-09</td>\n",
       "      <td>1000.0</td>\n",
       "      <td>2015-08-11 12:12:28</td>\n",
       "      <td>0.0</td>\n",
       "      <td>failed</td>\n",
       "      <td>0</td>\n",
       "      <td>GB</td>\n",
       "      <td>0.0</td>\n",
       "      <td>0.0</td>\n",
       "      <td>1533.95</td>\n",
       "    </tr>\n",
       "    <tr>\n",
       "      <th>1</th>\n",
       "      <td>1000003930</td>\n",
       "      <td>Greeting From Earth: ZGAC Arts Capsule For ET</td>\n",
       "      <td>Narrative Film</td>\n",
       "      <td>Film &amp; Video</td>\n",
       "      <td>USD</td>\n",
       "      <td>2017-11-01</td>\n",
       "      <td>30000.0</td>\n",
       "      <td>2017-09-02 04:43:57</td>\n",
       "      <td>2421.0</td>\n",
       "      <td>failed</td>\n",
       "      <td>15</td>\n",
       "      <td>US</td>\n",
       "      <td>100.0</td>\n",
       "      <td>2421.0</td>\n",
       "      <td>30000.00</td>\n",
       "    </tr>\n",
       "    <tr>\n",
       "      <th>2</th>\n",
       "      <td>1000004038</td>\n",
       "      <td>Where is Hank?</td>\n",
       "      <td>Narrative Film</td>\n",
       "      <td>Film &amp; Video</td>\n",
       "      <td>USD</td>\n",
       "      <td>2013-02-26</td>\n",
       "      <td>45000.0</td>\n",
       "      <td>2013-01-12 00:20:50</td>\n",
       "      <td>220.0</td>\n",
       "      <td>failed</td>\n",
       "      <td>3</td>\n",
       "      <td>US</td>\n",
       "      <td>220.0</td>\n",
       "      <td>220.0</td>\n",
       "      <td>45000.00</td>\n",
       "    </tr>\n",
       "    <tr>\n",
       "      <th>3</th>\n",
       "      <td>1000007540</td>\n",
       "      <td>ToshiCapital Rekordz Needs Help to Complete Album</td>\n",
       "      <td>Music</td>\n",
       "      <td>Music</td>\n",
       "      <td>USD</td>\n",
       "      <td>2012-04-16</td>\n",
       "      <td>5000.0</td>\n",
       "      <td>2012-03-17 03:24:11</td>\n",
       "      <td>1.0</td>\n",
       "      <td>failed</td>\n",
       "      <td>1</td>\n",
       "      <td>US</td>\n",
       "      <td>1.0</td>\n",
       "      <td>1.0</td>\n",
       "      <td>5000.00</td>\n",
       "    </tr>\n",
       "    <tr>\n",
       "      <th>4</th>\n",
       "      <td>1000011046</td>\n",
       "      <td>Community Film Project: The Art of Neighborhoo...</td>\n",
       "      <td>Film &amp; Video</td>\n",
       "      <td>Film &amp; Video</td>\n",
       "      <td>USD</td>\n",
       "      <td>2015-08-29</td>\n",
       "      <td>19500.0</td>\n",
       "      <td>2015-07-04 08:35:03</td>\n",
       "      <td>1283.0</td>\n",
       "      <td>canceled</td>\n",
       "      <td>14</td>\n",
       "      <td>US</td>\n",
       "      <td>1283.0</td>\n",
       "      <td>1283.0</td>\n",
       "      <td>19500.00</td>\n",
       "    </tr>\n",
       "  </tbody>\n",
       "</table>\n",
       "</div>"
      ],
      "text/plain": [
       "           ID                                               name  \\\n",
       "0  1000002330                    The Songs of Adelaide & Abullah   \n",
       "1  1000003930      Greeting From Earth: ZGAC Arts Capsule For ET   \n",
       "2  1000004038                                     Where is Hank?   \n",
       "3  1000007540  ToshiCapital Rekordz Needs Help to Complete Album   \n",
       "4  1000011046  Community Film Project: The Art of Neighborhoo...   \n",
       "\n",
       "         category main_category currency    deadline     goal  \\\n",
       "0          Poetry    Publishing      GBP  2015-10-09   1000.0   \n",
       "1  Narrative Film  Film & Video      USD  2017-11-01  30000.0   \n",
       "2  Narrative Film  Film & Video      USD  2013-02-26  45000.0   \n",
       "3           Music         Music      USD  2012-04-16   5000.0   \n",
       "4    Film & Video  Film & Video      USD  2015-08-29  19500.0   \n",
       "\n",
       "              launched  pledged     state  backers country  usd pledged  \\\n",
       "0  2015-08-11 12:12:28      0.0    failed        0      GB          0.0   \n",
       "1  2017-09-02 04:43:57   2421.0    failed       15      US        100.0   \n",
       "2  2013-01-12 00:20:50    220.0    failed        3      US        220.0   \n",
       "3  2012-03-17 03:24:11      1.0    failed        1      US          1.0   \n",
       "4  2015-07-04 08:35:03   1283.0  canceled       14      US       1283.0   \n",
       "\n",
       "   usd_pledged_real  usd_goal_real  \n",
       "0               0.0        1533.95  \n",
       "1            2421.0       30000.00  \n",
       "2             220.0       45000.00  \n",
       "3               1.0        5000.00  \n",
       "4            1283.0       19500.00  "
      ]
     },
     "execution_count": 7,
     "metadata": {},
     "output_type": "execute_result"
    }
   ],
   "source": [
    "kickstarter.head()"
   ]
  },
  {
   "cell_type": "markdown",
   "metadata": {},
   "source": [
    "I want to get rid of any rows with NA values in any of their columns. Then, I only want to focus on the most common main categories. To do so, I'll create a list of the most common and use that list to filter the dataset."
   ]
  },
  {
   "cell_type": "code",
   "execution_count": 8,
   "metadata": {},
   "outputs": [
    {
     "data": {
      "text/plain": [
       "ID                     0\n",
       "name                   4\n",
       "category               0\n",
       "main_category          0\n",
       "currency               0\n",
       "deadline               0\n",
       "goal                   0\n",
       "launched               0\n",
       "pledged                0\n",
       "state                  0\n",
       "backers                0\n",
       "country                0\n",
       "usd pledged         3797\n",
       "usd_pledged_real       0\n",
       "usd_goal_real          0\n",
       "dtype: int64"
      ]
     },
     "execution_count": 8,
     "metadata": {},
     "output_type": "execute_result"
    }
   ],
   "source": [
    "kickstarter.isna().sum()"
   ]
  },
  {
   "cell_type": "code",
   "execution_count": 9,
   "metadata": {},
   "outputs": [],
   "source": [
    "kickstarter = kickstarter.dropna(subset = ['name'])\n",
    "kickstarter = kickstarter.dropna(subset = ['usd pledged'])"
   ]
  },
  {
   "cell_type": "code",
   "execution_count": 10,
   "metadata": {},
   "outputs": [],
   "source": [
    "kickstarter['deadline_year'] = kickstarter['deadline'].apply(lambda a: a[:4])"
   ]
  },
  {
   "cell_type": "code",
   "execution_count": 42,
   "metadata": {},
   "outputs": [],
   "source": [
    "count = kickstarter['main_category'].value_counts()\n",
    "# get nine categories with highest value counts\n",
    "common = list(count[:9].keys())\n",
    "# filter so that you only have the rows that are in those nine categories\n",
    "most_common_cat = kickstarter[kickstarter['main_category'].isin(common)]"
   ]
  },
  {
   "cell_type": "markdown",
   "metadata": {},
   "source": [
    "Let's visualize these categories"
   ]
  },
  {
   "cell_type": "code",
   "execution_count": 14,
   "metadata": {},
   "outputs": [
    {
     "data": {
      "text/plain": [
       "[Text(0, 0, 'Film & Video'),\n",
       " Text(0, 0, 'Music'),\n",
       " Text(0, 0, 'Publishing'),\n",
       " Text(0, 0, 'Games'),\n",
       " Text(0, 0, 'Technology'),\n",
       " Text(0, 0, 'Design'),\n",
       " Text(0, 0, 'Art'),\n",
       " Text(0, 0, 'Food'),\n",
       " Text(0, 0, 'Fashion')]"
      ]
     },
     "execution_count": 14,
     "metadata": {},
     "output_type": "execute_result"
    },
    {
     "data": {
      "image/png": "[encoded data removed]",
      "text/plain": [
       "<Figure size 432x288 with 1 Axes>"
      ]
     },
     "metadata": {
      "needs_background": "light"
     },
     "output_type": "display_data"
    }
   ],
   "source": [
    "categoryCount = sns.countplot(x = 'main_category', data = most_common_cat, order = most_common_cat['main_category'].value_counts().index)\n",
    "categoryCount.set_xticklabels(categoryCount.get_xticklabels(), rotation = 45)"
   ]
  },
  {
   "cell_type": "code",
   "execution_count": 24,
   "metadata": {},
   "outputs": [
    {
     "data": {
      "text/html": [
       "<div>\n",
       "<style scoped>\n",
       "    .dataframe tbody tr th:only-of-type {\n",
       "        vertical-align: middle;\n",
       "    }\n",
       "\n",
       "    .dataframe tbody tr th {\n",
       "        vertical-align: top;\n",
       "    }\n",
       "\n",
       "    .dataframe thead th {\n",
       "        text-align: right;\n",
       "    }\n",
       "</style>\n",
       "<table border=\"1\" class=\"dataframe\">\n",
       "  <thead>\n",
       "    <tr style=\"text-align: right;\">\n",
       "      <th>state</th>\n",
       "      <th>canceled</th>\n",
       "      <th>failed</th>\n",
       "      <th>live</th>\n",
       "      <th>successful</th>\n",
       "      <th>suspended</th>\n",
       "      <th>total</th>\n",
       "    </tr>\n",
       "    <tr>\n",
       "      <th>main_category</th>\n",
       "      <th></th>\n",
       "      <th></th>\n",
       "      <th></th>\n",
       "      <th></th>\n",
       "      <th></th>\n",
       "      <th></th>\n",
       "    </tr>\n",
       "  </thead>\n",
       "  <tbody>\n",
       "    <tr>\n",
       "      <th>Film &amp; Video</th>\n",
       "      <td>5744</td>\n",
       "      <td>32891</td>\n",
       "      <td>332</td>\n",
       "      <td>23612</td>\n",
       "      <td>117</td>\n",
       "      <td>62247</td>\n",
       "    </tr>\n",
       "    <tr>\n",
       "      <th>Music</th>\n",
       "      <td>3300</td>\n",
       "      <td>21696</td>\n",
       "      <td>281</td>\n",
       "      <td>24105</td>\n",
       "      <td>148</td>\n",
       "      <td>49101</td>\n",
       "    </tr>\n",
       "    <tr>\n",
       "      <th>Publishing</th>\n",
       "      <td>3601</td>\n",
       "      <td>23113</td>\n",
       "      <td>299</td>\n",
       "      <td>12300</td>\n",
       "      <td>66</td>\n",
       "      <td>39014</td>\n",
       "    </tr>\n",
       "    <tr>\n",
       "      <th>Games</th>\n",
       "      <td>6199</td>\n",
       "      <td>16002</td>\n",
       "      <td>287</td>\n",
       "      <td>12518</td>\n",
       "      <td>219</td>\n",
       "      <td>34719</td>\n",
       "    </tr>\n",
       "    <tr>\n",
       "      <th>Technology</th>\n",
       "      <td>4715</td>\n",
       "      <td>20613</td>\n",
       "      <td>377</td>\n",
       "      <td>6433</td>\n",
       "      <td>424</td>\n",
       "      <td>31761</td>\n",
       "    </tr>\n",
       "  </tbody>\n",
       "</table>\n",
       "</div>"
      ],
      "text/plain": [
       "state          canceled  failed  live  successful  suspended  total\n",
       "main_category                                                      \n",
       "Film & Video       5744   32891   332       23612        117  62247\n",
       "Music              3300   21696   281       24105        148  49101\n",
       "Publishing         3601   23113   299       12300         66  39014\n",
       "Games              6199   16002   287       12518        219  34719\n",
       "Technology         4715   20613   377        6433        424  31761"
      ]
     },
     "execution_count": 24,
     "metadata": {},
     "output_type": "execute_result"
    }
   ],
   "source": [
    "#plot the main categories on the rows and the state in the columns, size() counts instances of each category for each state and reset_index()\n",
    "# means index is removed\n",
    "state_count = most_common_cat.groupby(['state', 'main_category']).size().reset_index().pivot(columns='state', index='main_category', values=0)\n",
    "# create new column which is sum of three columns\n",
    "state_count['total'] = state_count['canceled'] + state_count['failed'] + state_count['successful']\n",
    "#sort table by total\n",
    "state_count = state_count.sort_values(by = 'total', ascending = False)\n",
    "state_count.head()"
   ]
  },
  {
   "cell_type": "code",
   "execution_count": 25,
   "metadata": {},
   "outputs": [
    {
     "data": {
      "text/html": [
       "<div>\n",
       "<style scoped>\n",
       "    .dataframe tbody tr th:only-of-type {\n",
       "        vertical-align: middle;\n",
       "    }\n",
       "\n",
       "    .dataframe tbody tr th {\n",
       "        vertical-align: top;\n",
       "    }\n",
       "\n",
       "    .dataframe thead th {\n",
       "        text-align: right;\n",
       "    }\n",
       "</style>\n",
       "<table border=\"1\" class=\"dataframe\">\n",
       "  <thead>\n",
       "    <tr style=\"text-align: right;\">\n",
       "      <th>state</th>\n",
       "      <th>canceled</th>\n",
       "      <th>failed</th>\n",
       "      <th>successful</th>\n",
       "      <th>total</th>\n",
       "    </tr>\n",
       "    <tr>\n",
       "      <th>main_category</th>\n",
       "      <th></th>\n",
       "      <th></th>\n",
       "      <th></th>\n",
       "      <th></th>\n",
       "    </tr>\n",
       "  </thead>\n",
       "  <tbody>\n",
       "    <tr>\n",
       "      <th>Film &amp; Video</th>\n",
       "      <td>5744</td>\n",
       "      <td>32891</td>\n",
       "      <td>23612</td>\n",
       "      <td>62247</td>\n",
       "    </tr>\n",
       "    <tr>\n",
       "      <th>Music</th>\n",
       "      <td>3300</td>\n",
       "      <td>21696</td>\n",
       "      <td>24105</td>\n",
       "      <td>49101</td>\n",
       "    </tr>\n",
       "    <tr>\n",
       "      <th>Publishing</th>\n",
       "      <td>3601</td>\n",
       "      <td>23113</td>\n",
       "      <td>12300</td>\n",
       "      <td>39014</td>\n",
       "    </tr>\n",
       "    <tr>\n",
       "      <th>Games</th>\n",
       "      <td>6199</td>\n",
       "      <td>16002</td>\n",
       "      <td>12518</td>\n",
       "      <td>34719</td>\n",
       "    </tr>\n",
       "    <tr>\n",
       "      <th>Technology</th>\n",
       "      <td>4715</td>\n",
       "      <td>20613</td>\n",
       "      <td>6433</td>\n",
       "      <td>31761</td>\n",
       "    </tr>\n",
       "    <tr>\n",
       "      <th>Design</th>\n",
       "      <td>4152</td>\n",
       "      <td>14814</td>\n",
       "      <td>10549</td>\n",
       "      <td>29515</td>\n",
       "    </tr>\n",
       "    <tr>\n",
       "      <th>Art</th>\n",
       "      <td>2222</td>\n",
       "      <td>14130</td>\n",
       "      <td>11510</td>\n",
       "      <td>27862</td>\n",
       "    </tr>\n",
       "    <tr>\n",
       "      <th>Food</th>\n",
       "      <td>2209</td>\n",
       "      <td>15969</td>\n",
       "      <td>6085</td>\n",
       "      <td>24263</td>\n",
       "    </tr>\n",
       "    <tr>\n",
       "      <th>Fashion</th>\n",
       "      <td>2650</td>\n",
       "      <td>14181</td>\n",
       "      <td>5593</td>\n",
       "      <td>22424</td>\n",
       "    </tr>\n",
       "  </tbody>\n",
       "</table>\n",
       "</div>"
      ],
      "text/plain": [
       "state          canceled  failed  successful  total\n",
       "main_category                                     \n",
       "Film & Video       5744   32891       23612  62247\n",
       "Music              3300   21696       24105  49101\n",
       "Publishing         3601   23113       12300  39014\n",
       "Games              6199   16002       12518  34719\n",
       "Technology         4715   20613        6433  31761\n",
       "Design             4152   14814       10549  29515\n",
       "Art                2222   14130       11510  27862\n",
       "Food               2209   15969        6085  24263\n",
       "Fashion            2650   14181        5593  22424"
      ]
     },
     "execution_count": 25,
     "metadata": {},
     "output_type": "execute_result"
    }
   ],
   "source": [
    "#filter so that only states are 'canceled', 'failed', 'successful' and 'total'\n",
    "state_count = state_count[['canceled', 'failed', 'successful', 'total']]\n",
    "# sort by total\n",
    "state_count = state_count.sort_values(by = 'total', ascending  = False)\n",
    "state_count"
   ]
  },
  {
   "cell_type": "code",
   "execution_count": 26,
   "metadata": {},
   "outputs": [
    {
     "data": {
      "text/plain": [
       "<matplotlib.axes._subplots.AxesSubplot at 0x218cb675be0>"
      ]
     },
     "execution_count": 26,
     "metadata": {},
     "output_type": "execute_result"
    },
    {
     "data": {
      "image/png": "[encoded data removed]",
      "text/plain": [
       "<Figure size 432x288 with 1 Axes>"
      ]
     },
     "metadata": {
      "needs_background": "light"
     },
     "output_type": "display_data"
    }
   ],
   "source": [
    "state_count.iloc[:, :3].plot(kind='bar', stacked=True)"
   ]
  },
  {
   "cell_type": "code",
   "execution_count": 27,
   "metadata": {},
   "outputs": [],
   "source": [
    "state_count['success_rate'] = state_count['successful']/ state_count['total']"
   ]
  },
  {
   "cell_type": "code",
   "execution_count": 29,
   "metadata": {},
   "outputs": [
    {
     "data": {
      "text/html": [
       "<div>\n",
       "<style scoped>\n",
       "    .dataframe tbody tr th:only-of-type {\n",
       "        vertical-align: middle;\n",
       "    }\n",
       "\n",
       "    .dataframe tbody tr th {\n",
       "        vertical-align: top;\n",
       "    }\n",
       "\n",
       "    .dataframe thead th {\n",
       "        text-align: right;\n",
       "    }\n",
       "</style>\n",
       "<table border=\"1\" class=\"dataframe\">\n",
       "  <thead>\n",
       "    <tr style=\"text-align: right;\">\n",
       "      <th>state</th>\n",
       "      <th>canceled</th>\n",
       "      <th>failed</th>\n",
       "      <th>successful</th>\n",
       "      <th>total</th>\n",
       "      <th>success_rate</th>\n",
       "    </tr>\n",
       "    <tr>\n",
       "      <th>main_category</th>\n",
       "      <th></th>\n",
       "      <th></th>\n",
       "      <th></th>\n",
       "      <th></th>\n",
       "      <th></th>\n",
       "    </tr>\n",
       "  </thead>\n",
       "  <tbody>\n",
       "    <tr>\n",
       "      <th>Music</th>\n",
       "      <td>3300</td>\n",
       "      <td>21696</td>\n",
       "      <td>24105</td>\n",
       "      <td>49101</td>\n",
       "      <td>0.490927</td>\n",
       "    </tr>\n",
       "    <tr>\n",
       "      <th>Art</th>\n",
       "      <td>2222</td>\n",
       "      <td>14130</td>\n",
       "      <td>11510</td>\n",
       "      <td>27862</td>\n",
       "      <td>0.413107</td>\n",
       "    </tr>\n",
       "    <tr>\n",
       "      <th>Film &amp; Video</th>\n",
       "      <td>5744</td>\n",
       "      <td>32891</td>\n",
       "      <td>23612</td>\n",
       "      <td>62247</td>\n",
       "      <td>0.379328</td>\n",
       "    </tr>\n",
       "    <tr>\n",
       "      <th>Games</th>\n",
       "      <td>6199</td>\n",
       "      <td>16002</td>\n",
       "      <td>12518</td>\n",
       "      <td>34719</td>\n",
       "      <td>0.360552</td>\n",
       "    </tr>\n",
       "    <tr>\n",
       "      <th>Design</th>\n",
       "      <td>4152</td>\n",
       "      <td>14814</td>\n",
       "      <td>10549</td>\n",
       "      <td>29515</td>\n",
       "      <td>0.357411</td>\n",
       "    </tr>\n",
       "    <tr>\n",
       "      <th>Publishing</th>\n",
       "      <td>3601</td>\n",
       "      <td>23113</td>\n",
       "      <td>12300</td>\n",
       "      <td>39014</td>\n",
       "      <td>0.315271</td>\n",
       "    </tr>\n",
       "    <tr>\n",
       "      <th>Food</th>\n",
       "      <td>2209</td>\n",
       "      <td>15969</td>\n",
       "      <td>6085</td>\n",
       "      <td>24263</td>\n",
       "      <td>0.250793</td>\n",
       "    </tr>\n",
       "    <tr>\n",
       "      <th>Fashion</th>\n",
       "      <td>2650</td>\n",
       "      <td>14181</td>\n",
       "      <td>5593</td>\n",
       "      <td>22424</td>\n",
       "      <td>0.249420</td>\n",
       "    </tr>\n",
       "    <tr>\n",
       "      <th>Technology</th>\n",
       "      <td>4715</td>\n",
       "      <td>20613</td>\n",
       "      <td>6433</td>\n",
       "      <td>31761</td>\n",
       "      <td>0.202544</td>\n",
       "    </tr>\n",
       "  </tbody>\n",
       "</table>\n",
       "</div>"
      ],
      "text/plain": [
       "state          canceled  failed  successful  total  success_rate\n",
       "main_category                                                   \n",
       "Music              3300   21696       24105  49101      0.490927\n",
       "Art                2222   14130       11510  27862      0.413107\n",
       "Film & Video       5744   32891       23612  62247      0.379328\n",
       "Games              6199   16002       12518  34719      0.360552\n",
       "Design             4152   14814       10549  29515      0.357411\n",
       "Publishing         3601   23113       12300  39014      0.315271\n",
       "Food               2209   15969        6085  24263      0.250793\n",
       "Fashion            2650   14181        5593  22424      0.249420\n",
       "Technology         4715   20613        6433  31761      0.202544"
      ]
     },
     "execution_count": 29,
     "metadata": {},
     "output_type": "execute_result"
    }
   ],
   "source": [
    "state_count.sort_values(by = \"success_rate\", ascending = False)"
   ]
  },
  {
   "cell_type": "markdown",
   "metadata": {},
   "source": [
    "Next I'll graph the success rate and total number of projects using a dual axis."
   ]
  },
  {
   "cell_type": "code",
   "execution_count": 30,
   "metadata": {},
   "outputs": [
    {
     "data": {
      "image/png": "[encoded data removed]",
      "text/plain": [
       "<Figure size 432x288 with 2 Axes>"
      ]
     },
     "metadata": {
      "needs_background": "light"
     },
     "output_type": "display_data"
    }
   ],
   "source": [
    "state_count = state_count.reset_index()\n",
    "fig, ax1 = plt.subplots()\n",
    "\n",
    "color = 'tab:red'\n",
    "ax1.set_xlabel('category')\n",
    "\n",
    "ax1.set_ylabel('success rate', color = color)\n",
    "ln1 = ax1.plot(state_count['main_category'], state_count['success_rate'], color = color)\n",
    "ax1.tick_params(axis = 'y', labelcolor = color)\n",
    "ax1.tick_params(axis = 'x', labelrotation = 45)\n",
    "\n",
    "ax2 = ax1.twinx()\n",
    "color = 'tab:blue'\n",
    "ax2.set_ylabel('total', color=color)\n",
    "ln2 = ax2.plot(state_count['main_category'], state_count['total'], color=color)\n",
    "ax2.tick_params(axis = 'y', labelcolor = color)\n",
    "\n",
    "lns = ln1+ln2\n",
    "labels = [l.get_label() for l in lns]\n",
    "\n",
    "fig.tight_layout()\n",
    "for tick in ax1.get_xticklabels():\n",
    "    tick.set_rotation(45)\n",
    "plt.show()"
   ]
  },
  {
   "cell_type": "markdown",
   "metadata": {},
   "source": [
    "From the above chart, there seems to be some negative correlation with Art and Design not following this trend. There are some with high total and high success (film & video, music), low total and low success (food, fashion) and those with high total and low success (design and art). "
   ]
  },
  {
   "cell_type": "markdown",
   "metadata": {},
   "source": [
    "Next I would like to see how the number of projects changed throughout time. I will graph the monthly count against time. To do so, I will create two new columns: deadline month and deadline year by subscripting."
   ]
  },
  {
   "cell_type": "code",
   "execution_count": 43,
   "metadata": {},
   "outputs": [
    {
     "name": "stderr",
     "output_type": "stream",
     "text": [
      "<ipython-input-43-796607592f8d>:1: SettingWithCopyWarning: \n",
      "A value is trying to be set on a copy of a slice from a DataFrame.\n",
      "Try using .loc[row_indexer,col_indexer] = value instead\n",
      "\n",
      "See the caveats in the documentation: https://pandas.pydata.org/pandas-docs/stable/user_guide/indexing.html#returning-a-view-versus-a-copy\n",
      "  most_common_cat['deadline_month'] = most_common_cat['deadline'].apply(lambda a: a[0:7])\n",
      "<ipython-input-43-796607592f8d>:2: SettingWithCopyWarning: \n",
      "A value is trying to be set on a copy of a slice from a DataFrame.\n",
      "Try using .loc[row_indexer,col_indexer] = value instead\n",
      "\n",
      "See the caveats in the documentation: https://pandas.pydata.org/pandas-docs/stable/user_guide/indexing.html#returning-a-view-versus-a-copy\n",
      "  most_common_cat['deadline_year'] = most_common_cat['deadline'].apply(lambda a: a[0:4])\n"
     ]
    }
   ],
   "source": [
    "most_common_cat['deadline_month'] = most_common_cat['deadline'].apply(lambda a: a[0:7])\n",
    "most_common_cat['deadline_year'] = most_common_cat['deadline'].apply(lambda a: a[0:4])"
   ]
  },
  {
   "cell_type": "code",
   "execution_count": 51,
   "metadata": {},
   "outputs": [
    {
     "data": {
      "text/plain": [
       "0"
      ]
     },
     "execution_count": 51,
     "metadata": {},
     "output_type": "execute_result"
    }
   ],
   "source": [
    "most_common_cat.deadline_month.isna().sum()\n",
    "most_common_cat.deadline_year.isna().sum()"
   ]
  },
  {
   "cell_type": "markdown",
   "metadata": {},
   "source": [
    "Then I will group the dataset by the main category and deadline month, while counting the number of projects in each \n",
    "grouped cell."
   ]
  },
  {
   "cell_type": "code",
   "execution_count": 54,
   "metadata": {},
   "outputs": [],
   "source": [
    "month_count = most_common_cat.groupby(['main_category', 'deadline_month']).size()\n",
    "month_count = month_count.to_frame()\n",
    "month_count['monthly count'] = month_count.iloc[:, 0]\n",
    "month_count = month_count.reset_index()\n",
    "month_count['deadline_month'] = pd.to_datetime(month_count['deadline_month'])\n",
    "month_count = month_count.drop([0], axis =1)"
   ]
  },
  {
   "cell_type": "code",
   "execution_count": 55,
   "metadata": {},
   "outputs": [
    {
     "data": {
      "text/html": [
       "<div>\n",
       "<style scoped>\n",
       "    .dataframe tbody tr th:only-of-type {\n",
       "        vertical-align: middle;\n",
       "    }\n",
       "\n",
       "    .dataframe tbody tr th {\n",
       "        vertical-align: top;\n",
       "    }\n",
       "\n",
       "    .dataframe thead th {\n",
       "        text-align: right;\n",
       "    }\n",
       "</style>\n",
       "<table border=\"1\" class=\"dataframe\">\n",
       "  <thead>\n",
       "    <tr style=\"text-align: right;\">\n",
       "      <th></th>\n",
       "      <th>main_category</th>\n",
       "      <th>deadline_month</th>\n",
       "      <th>monthly count</th>\n",
       "    </tr>\n",
       "  </thead>\n",
       "  <tbody>\n",
       "    <tr>\n",
       "      <th>0</th>\n",
       "      <td>Art</td>\n",
       "      <td>2009-05-01</td>\n",
       "      <td>3</td>\n",
       "    </tr>\n",
       "    <tr>\n",
       "      <th>1</th>\n",
       "      <td>Art</td>\n",
       "      <td>2009-06-01</td>\n",
       "      <td>4</td>\n",
       "    </tr>\n",
       "    <tr>\n",
       "      <th>2</th>\n",
       "      <td>Art</td>\n",
       "      <td>2009-07-01</td>\n",
       "      <td>9</td>\n",
       "    </tr>\n",
       "    <tr>\n",
       "      <th>3</th>\n",
       "      <td>Art</td>\n",
       "      <td>2009-08-01</td>\n",
       "      <td>6</td>\n",
       "    </tr>\n",
       "    <tr>\n",
       "      <th>4</th>\n",
       "      <td>Art</td>\n",
       "      <td>2009-09-01</td>\n",
       "      <td>9</td>\n",
       "    </tr>\n",
       "  </tbody>\n",
       "</table>\n",
       "</div>"
      ],
      "text/plain": [
       "  main_category deadline_month  monthly count\n",
       "0           Art     2009-05-01              3\n",
       "1           Art     2009-06-01              4\n",
       "2           Art     2009-07-01              9\n",
       "3           Art     2009-08-01              6\n",
       "4           Art     2009-09-01              9"
      ]
     },
     "execution_count": 55,
     "metadata": {},
     "output_type": "execute_result"
    }
   ],
   "source": [
    "month_count.head()"
   ]
  },
  {
   "cell_type": "code",
   "execution_count": 56,
   "metadata": {},
   "outputs": [
    {
     "data": {
      "image/png": "[encoded data removed]",
      "text/plain": [
       "<Figure size 648x648 with 9 Axes>"
      ]
     },
     "metadata": {
      "needs_background": "light"
     },
     "output_type": "display_data"
    }
   ],
   "source": [
    "g = sns.FacetGrid(month_count, col = \"main_category\", col_wrap = 3)\n",
    "g.map(plt.plot, \"deadline_month\", \"monthly count\", marker = \".\")\n",
    "for ax in g.axes.ravel():\n",
    "    ax.set_xticklabels(ax.get_xticklabels(), rotation=45)\n",
    "    ax.set_xlabel('Year')"
   ]
  },
  {
   "cell_type": "markdown",
   "metadata": {},
   "source": [
    "The graphs above indicate that all categories roughly follow a similar path, whereby there is an incremental increase until around 2014. At around 2014, some categories see a steep increase. After 2015, there is either neglible change or a steady decline."
   ]
  },
  {
   "cell_type": "markdown",
   "metadata": {},
   "source": [
    "Next, I will graph the success rate of all categories aggregated"
   ]
  },
  {
   "cell_type": "code",
   "execution_count": 65,
   "metadata": {},
   "outputs": [
    {
     "data": {
      "image/png": "[encoded data removed]",
      "text/plain": [
       "<Figure size 360x360 with 1 Axes>"
      ]
     },
     "metadata": {
      "needs_background": "light"
     },
     "output_type": "display_data"
    }
   ],
   "source": [
    "df_plot_month = most_common_cat.groupby(['state', 'deadline_month']).size().reset_index().pivot(columns='state', index='deadline_month', values = 0)\n",
    "df_plot_month = df_plot_month[['canceled', 'failed', 'successful']]\n",
    "\n",
    "df_plot_month['total'] = df_plot_month['canceled'] + df_plot_month['failed'] + df_plot_month['successful']\n",
    "df_plot_month['success_rate'] = df_plot_month['successful']/df_plot_month['total']*100\n",
    "df_plot_month = df_plot_month.reset_index()\n",
    "df_plot_month['deadline_year'] = df_plot_month['deadline_month'].apply(lambda a: a[0:4])\n",
    "\n",
    "labels = np.arange(2009, 2018, 1)\n",
    "ticks = 2**labels\n",
    "fig = plt.figure(1, figsize = (5,5))\n",
    "ax = fig.add_axes([.1, .1, .8, .8])\n",
    "ax.plot(df_plot_month['deadline_month'], df_plot_month['success_rate'])\n",
    "ax.set_xticks([0, 12, 24, 36, 48, 60, 72, 84, 96])\n",
    "ax.set_xticklabels(labels)\n",
    "ax.set_xlabel(\"Year\")\n",
    "ax.set_ylabel(\"success rate\")\n",
    "ax.set_title('Success Rate Over Time')\n",
    "plt.show()"
   ]
  },
  {
   "cell_type": "markdown",
   "metadata": {},
   "source": [
    "There is a large jump in 2009. This is due to the small number of projects. Afterwards, the success rate largely stabilizes until 2014 where there is a sharp decline. This is likely connected to the large jump in number of projects seen by each category. Afterwards, there is an incremental increase in success rate, which mirrors many categories in the graphs seen before."
   ]
  },
  {
   "cell_type": "code",
   "execution_count": null,
   "metadata": {},
   "outputs": [],
   "source": [
    "Next I want to ascertain the correlation between success and number of projects. There was a graph above (In 30) that seemed\n",
    "to indicate that certain categories had high number of projects and a high success rate. This is not the same as a positive\n",
    "correlation. "
   ]
  },
  {
   "cell_type": "code",
   "execution_count": 67,
   "metadata": {},
   "outputs": [],
   "source": [
    "df_cat_month = most_common_cat.pivot_table(values = \"usd_pledged_real\", index = ['main_category', 'deadline_month'], columns = 'state', aggfunc = 'count')\n",
    "df_cat_month = df_cat_month[['canceled', 'failed', 'successful']]\n",
    "df_cat_month['total'] = df_cat_month['canceled'] + df_cat_month['failed'] + df_cat_month['successful']\n",
    "df_cat_month['success_rate'] = df_cat_month['successful'] / df_cat_month['total']\n",
    "df_cat_month.dropna(inplace = True)\n",
    "df_resetIndex= df_cat_month.reset_index()\n",
    "corr_df = pd.DataFrame(columns = [\"Category\", \"Correlation\"])\n",
    "corr_df2 = pd.DataFrame({\"Category\": [\"Art\"], \"Correlation\": [.25]})\n",
    "corr_df.append(corr_df2)\n",
    "cat_num = 0\n",
    "df_resetIndex['main_category'].unique()\n",
    "for cat in df_resetIndex['main_category'].unique():\n",
    "    cat_df = df_resetIndex[df_resetIndex['main_category'] == cat]\n",
    "    corr = np.corrcoef(cat_df['total'], cat_df['success_rate'])[0, 1]\n",
    "    #print(corr)\n",
    "    corr_df2 = pd.DataFrame({\"Category\": [cat], \"Correlation\": [corr]})\n",
    "    corr_df = corr_df.append(corr_df2)"
   ]
  },
  {
   "cell_type": "code",
   "execution_count": 68,
   "metadata": {},
   "outputs": [
    {
     "data": {
      "text/html": [
       "<div>\n",
       "<style scoped>\n",
       "    .dataframe tbody tr th:only-of-type {\n",
       "        vertical-align: middle;\n",
       "    }\n",
       "\n",
       "    .dataframe tbody tr th {\n",
       "        vertical-align: top;\n",
       "    }\n",
       "\n",
       "    .dataframe thead th {\n",
       "        text-align: right;\n",
       "    }\n",
       "</style>\n",
       "<table border=\"1\" class=\"dataframe\">\n",
       "  <thead>\n",
       "    <tr style=\"text-align: right;\">\n",
       "      <th></th>\n",
       "      <th>Category</th>\n",
       "      <th>Correlation</th>\n",
       "    </tr>\n",
       "  </thead>\n",
       "  <tbody>\n",
       "    <tr>\n",
       "      <th>0</th>\n",
       "      <td>Technology</td>\n",
       "      <td>-0.673995</td>\n",
       "    </tr>\n",
       "    <tr>\n",
       "      <th>0</th>\n",
       "      <td>Food</td>\n",
       "      <td>-0.642954</td>\n",
       "    </tr>\n",
       "    <tr>\n",
       "      <th>0</th>\n",
       "      <td>Art</td>\n",
       "      <td>-0.394340</td>\n",
       "    </tr>\n",
       "    <tr>\n",
       "      <th>0</th>\n",
       "      <td>Fashion</td>\n",
       "      <td>-0.344734</td>\n",
       "    </tr>\n",
       "    <tr>\n",
       "      <th>0</th>\n",
       "      <td>Publishing</td>\n",
       "      <td>-0.320587</td>\n",
       "    </tr>\n",
       "    <tr>\n",
       "      <th>0</th>\n",
       "      <td>Music</td>\n",
       "      <td>-0.117553</td>\n",
       "    </tr>\n",
       "    <tr>\n",
       "      <th>0</th>\n",
       "      <td>Film &amp; Video</td>\n",
       "      <td>-0.061892</td>\n",
       "    </tr>\n",
       "    <tr>\n",
       "      <th>0</th>\n",
       "      <td>Design</td>\n",
       "      <td>0.007034</td>\n",
       "    </tr>\n",
       "    <tr>\n",
       "      <th>0</th>\n",
       "      <td>Games</td>\n",
       "      <td>0.155999</td>\n",
       "    </tr>\n",
       "  </tbody>\n",
       "</table>\n",
       "</div>"
      ],
      "text/plain": [
       "       Category  Correlation\n",
       "0    Technology    -0.673995\n",
       "0          Food    -0.642954\n",
       "0           Art    -0.394340\n",
       "0       Fashion    -0.344734\n",
       "0    Publishing    -0.320587\n",
       "0         Music    -0.117553\n",
       "0  Film & Video    -0.061892\n",
       "0        Design     0.007034\n",
       "0         Games     0.155999"
      ]
     },
     "execution_count": 68,
     "metadata": {},
     "output_type": "execute_result"
    }
   ],
   "source": [
    "corr_df.sort_values(by = \"Correlation\")"
   ]
  },
  {
   "cell_type": "markdown",
   "metadata": {},
   "source": [
    "There are two relevant effects here. The low number of projects and the degree to which an additional project affects success rate. For instance, a category could be very affected by an increase in number of projects, but still have a high success rate due to the limited number of projects. This would be reflected in the first graph as high success and low total and the correlation would be at least moderately negative. I would hazard a guess that categories that had high success and low total, would have that success due to the low total, if they also had a substantial negative correlation. This is the case with the category Art. However, Design, the other category that had low total and high success, had virtually zero correlation. \n",
    "\n",
    "There were some categories with low success and low total. These were technology, food and fashion. In the case of technology, it could be that the high median goal meant that there would be low success, however the substantial negative correlation indicates that perhaps technology was heavily affected by increases in number of projects. Indeed, the graph at in[56] indicates a substantial increase in number of projects. It would be helpful to see if there is a likewise decrease in success rate at this time. Food and fashion also have some of the most negative correlations. \n",
    "\n",
    "The two categories with high success rates and high number of projects are film & video and music. As well, they have only a little bit of a negative correlation between success and number of projects. "
   ]
  },
  {
   "cell_type": "markdown",
   "metadata": {},
   "source": [
    "I want to use regression to test how each category's success rate responds to change in number of backers, average donation and \n",
    "goal in dollars. To do so, I first have to create a new column in most_common_cat that contains the average donation for each project. Next, I create a pivot table for goal, backers and average donation whereby the value will be the median values for each. "
   ]
  },
  {
   "cell_type": "code",
   "execution_count": 69,
   "metadata": {},
   "outputs": [],
   "source": [
    "most_common_cat = most_common_cat[most_common_cat['backers'] > 0]\n",
    "most_common_cat['average_donation'] = most_common_cat['usd_pledged_real'] / most_common_cat['backers']"
   ]
  },
  {
   "cell_type": "code",
   "execution_count": 86,
   "metadata": {},
   "outputs": [],
   "source": [
    "df_avg_donation = most_common_cat.pivot_table(values = \"average_donation\", index = ['main_category', 'deadline_month'], columns = 'state', aggfunc = np.median, margins = True)\n",
    "df_goal = most_common_cat.pivot_table(values = \"goal\", index = ['main_category', 'deadline_month'], columns = 'state', aggfunc = np.median, margins = True)\n",
    "df_backers = most_common_cat.pivot_table(values = \"backers\", index = ['main_category', 'deadline_month'], columns = 'state', aggfunc = np.median, margins = True)"
   ]
  },
  {
   "cell_type": "code",
   "execution_count": 73,
   "metadata": {},
   "outputs": [
    {
     "data": {
      "text/html": [
       "<div>\n",
       "<style scoped>\n",
       "    .dataframe tbody tr th:only-of-type {\n",
       "        vertical-align: middle;\n",
       "    }\n",
       "\n",
       "    .dataframe tbody tr th {\n",
       "        vertical-align: top;\n",
       "    }\n",
       "\n",
       "    .dataframe thead th {\n",
       "        text-align: right;\n",
       "    }\n",
       "</style>\n",
       "<table border=\"1\" class=\"dataframe\">\n",
       "  <thead>\n",
       "    <tr style=\"text-align: right;\">\n",
       "      <th></th>\n",
       "      <th>state</th>\n",
       "      <th>canceled</th>\n",
       "      <th>failed</th>\n",
       "      <th>live</th>\n",
       "      <th>successful</th>\n",
       "      <th>suspended</th>\n",
       "      <th>All</th>\n",
       "    </tr>\n",
       "    <tr>\n",
       "      <th>main_category</th>\n",
       "      <th>deadline_month</th>\n",
       "      <th></th>\n",
       "      <th></th>\n",
       "      <th></th>\n",
       "      <th></th>\n",
       "      <th></th>\n",
       "      <th></th>\n",
       "    </tr>\n",
       "  </thead>\n",
       "  <tbody>\n",
       "    <tr>\n",
       "      <th rowspan=\"5\" valign=\"top\">Art</th>\n",
       "      <th>2009-05</th>\n",
       "      <td>NaN</td>\n",
       "      <td>25.000000</td>\n",
       "      <td>NaN</td>\n",
       "      <td>11.666667</td>\n",
       "      <td>NaN</td>\n",
       "      <td>18.333333</td>\n",
       "    </tr>\n",
       "    <tr>\n",
       "      <th>2009-06</th>\n",
       "      <td>NaN</td>\n",
       "      <td>31.944444</td>\n",
       "      <td>NaN</td>\n",
       "      <td>114.659091</td>\n",
       "      <td>NaN</td>\n",
       "      <td>39.097222</td>\n",
       "    </tr>\n",
       "    <tr>\n",
       "      <th>2009-07</th>\n",
       "      <td>NaN</td>\n",
       "      <td>18.870370</td>\n",
       "      <td>NaN</td>\n",
       "      <td>19.545455</td>\n",
       "      <td>NaN</td>\n",
       "      <td>19.545455</td>\n",
       "    </tr>\n",
       "    <tr>\n",
       "      <th>2009-08</th>\n",
       "      <td>NaN</td>\n",
       "      <td>16.250000</td>\n",
       "      <td>NaN</td>\n",
       "      <td>33.394737</td>\n",
       "      <td>NaN</td>\n",
       "      <td>26.000000</td>\n",
       "    </tr>\n",
       "    <tr>\n",
       "      <th>2009-09</th>\n",
       "      <td>NaN</td>\n",
       "      <td>112.500000</td>\n",
       "      <td>NaN</td>\n",
       "      <td>31.997283</td>\n",
       "      <td>NaN</td>\n",
       "      <td>35.625000</td>\n",
       "    </tr>\n",
       "  </tbody>\n",
       "</table>\n",
       "</div>"
      ],
      "text/plain": [
       "state                         canceled      failed  live  successful  \\\n",
       "main_category deadline_month                                           \n",
       "Art           2009-05              NaN   25.000000   NaN   11.666667   \n",
       "              2009-06              NaN   31.944444   NaN  114.659091   \n",
       "              2009-07              NaN   18.870370   NaN   19.545455   \n",
       "              2009-08              NaN   16.250000   NaN   33.394737   \n",
       "              2009-09              NaN  112.500000   NaN   31.997283   \n",
       "\n",
       "state                         suspended        All  \n",
       "main_category deadline_month                        \n",
       "Art           2009-05               NaN  18.333333  \n",
       "              2009-06               NaN  39.097222  \n",
       "              2009-07               NaN  19.545455  \n",
       "              2009-08               NaN  26.000000  \n",
       "              2009-09               NaN  35.625000  "
      ]
     },
     "execution_count": 73,
     "metadata": {},
     "output_type": "execute_result"
    }
   ],
   "source": [
    "df_avg_donation.head()"
   ]
  },
  {
   "cell_type": "markdown",
   "metadata": {},
   "source": [
    "By setting margins = True in pivot_table() there will be one row at the bottom that I don't need, so I delete this row."
   ]
  },
  {
   "cell_type": "code",
   "execution_count": 87,
   "metadata": {},
   "outputs": [],
   "source": [
    "df_avg_donation = df_avg_donation.iloc[:-1]\n",
    "df_goal = df_goal.iloc[:-1]\n",
    "df_backers = df_backers.iloc[:-1]"
   ]
  },
  {
   "cell_type": "markdown",
   "metadata": {},
   "source": [
    "Next, I want the success rate for each month to be a column in each pivot table. One way to do this (incorrectly) is to add a column df_aveage_donation['success_rate'] = df_cat_month['success_rate']. Remember that df_cat_month is the pivot table that calculates the total number of projects for each state and has a column for success rate for each month. The problem with this apporach is that the two dataframes will have a different number of rows. Thus, I will need to merge the two dataframes. I don't need most of the columns in df_cat_month, so I create a new dataframe that filters out most columns."
   ]
  },
  {
   "cell_type": "code",
   "execution_count": 88,
   "metadata": {},
   "outputs": [],
   "source": [
    "df_cat_month = df_cat_month.reset_index()\n",
    "deadline_success = df_cat_month[['deadline_month', 'main_category', 'success_rate']]"
   ]
  },
  {
   "cell_type": "code",
   "execution_count": 79,
   "metadata": {},
   "outputs": [
    {
     "data": {
      "text/html": [
       "<div>\n",
       "<style scoped>\n",
       "    .dataframe tbody tr th:only-of-type {\n",
       "        vertical-align: middle;\n",
       "    }\n",
       "\n",
       "    .dataframe tbody tr th {\n",
       "        vertical-align: top;\n",
       "    }\n",
       "\n",
       "    .dataframe thead th {\n",
       "        text-align: right;\n",
       "    }\n",
       "</style>\n",
       "<table border=\"1\" class=\"dataframe\">\n",
       "  <thead>\n",
       "    <tr style=\"text-align: right;\">\n",
       "      <th>state</th>\n",
       "      <th>deadline_month</th>\n",
       "      <th>main_category</th>\n",
       "      <th>success_rate</th>\n",
       "    </tr>\n",
       "  </thead>\n",
       "  <tbody>\n",
       "    <tr>\n",
       "      <th>0</th>\n",
       "      <td>2009-10</td>\n",
       "      <td>Art</td>\n",
       "      <td>0.343750</td>\n",
       "    </tr>\n",
       "    <tr>\n",
       "      <th>1</th>\n",
       "      <td>2009-11</td>\n",
       "      <td>Art</td>\n",
       "      <td>0.450000</td>\n",
       "    </tr>\n",
       "    <tr>\n",
       "      <th>2</th>\n",
       "      <td>2009-12</td>\n",
       "      <td>Art</td>\n",
       "      <td>0.431818</td>\n",
       "    </tr>\n",
       "    <tr>\n",
       "      <th>3</th>\n",
       "      <td>2010-01</td>\n",
       "      <td>Art</td>\n",
       "      <td>0.481481</td>\n",
       "    </tr>\n",
       "    <tr>\n",
       "      <th>4</th>\n",
       "      <td>2010-02</td>\n",
       "      <td>Art</td>\n",
       "      <td>0.421053</td>\n",
       "    </tr>\n",
       "  </tbody>\n",
       "</table>\n",
       "</div>"
      ],
      "text/plain": [
       "state deadline_month main_category  success_rate\n",
       "0            2009-10           Art      0.343750\n",
       "1            2009-11           Art      0.450000\n",
       "2            2009-12           Art      0.431818\n",
       "3            2010-01           Art      0.481481\n",
       "4            2010-02           Art      0.421053"
      ]
     },
     "execution_count": 79,
     "metadata": {},
     "output_type": "execute_result"
    }
   ],
   "source": [
    "deadline_success.head()"
   ]
  },
  {
   "cell_type": "markdown",
   "metadata": {},
   "source": [
    "Next, I merge the two dataframes with an inner merge on both deadline_month and main_category. Doing merge on just one of those columns would result in too many rows as each month and category has multiple rows associated with it in the other dataframe."
   ]
  },
  {
   "cell_type": "code",
   "execution_count": 89,
   "metadata": {},
   "outputs": [],
   "source": [
    "df_avg_donation = df_avg_donation[['canceled', 'failed', 'successful', 'All']]\n",
    "df_avg_donation = pd.merge(df_avg_donation, deadline_success, how = 'inner', on = ['deadline_month', 'main_category'])\n",
    "df_avg_donation.dropna(inplace = True)\n",
    "df_avg_donation.reset_index(inplace = True)"
   ]
  },
  {
   "cell_type": "code",
   "execution_count": 90,
   "metadata": {},
   "outputs": [],
   "source": [
    "df_goal = df_goal[['canceled', 'failed', 'successful', 'All']]\n",
    "df_goal = pd.merge(df_goal, deadline_success, how = 'inner', on = ['deadline_month', 'main_category'])\n",
    "df_goal.dropna(inplace = True)\n",
    "df_goal.reset_index(inplace = True)"
   ]
  },
  {
   "cell_type": "code",
   "execution_count": 91,
   "metadata": {},
   "outputs": [],
   "source": [
    "df_backers = df_backers[['canceled', 'failed', 'successful', 'All']]\n",
    "df_backers = pd.merge(df_backers, deadline_success, how = 'inner', on = ['deadline_month', 'main_category'])\n",
    "df_backers.dropna(inplace = True)\n",
    "df_backers.reset_index(inplace = True)"
   ]
  },
  {
   "cell_type": "code",
   "execution_count": 92,
   "metadata": {},
   "outputs": [
    {
     "data": {
      "text/html": [
       "<div>\n",
       "<style scoped>\n",
       "    .dataframe tbody tr th:only-of-type {\n",
       "        vertical-align: middle;\n",
       "    }\n",
       "\n",
       "    .dataframe tbody tr th {\n",
       "        vertical-align: top;\n",
       "    }\n",
       "\n",
       "    .dataframe thead th {\n",
       "        text-align: right;\n",
       "    }\n",
       "</style>\n",
       "<table border=\"1\" class=\"dataframe\">\n",
       "  <thead>\n",
       "    <tr style=\"text-align: right;\">\n",
       "      <th>state</th>\n",
       "      <th>index</th>\n",
       "      <th>deadline_month</th>\n",
       "      <th>main_category</th>\n",
       "      <th>canceled</th>\n",
       "      <th>failed</th>\n",
       "      <th>successful</th>\n",
       "      <th>All</th>\n",
       "      <th>success_rate</th>\n",
       "    </tr>\n",
       "  </thead>\n",
       "  <tbody>\n",
       "    <tr>\n",
       "      <th>0</th>\n",
       "      <td>0</td>\n",
       "      <td>2009-10</td>\n",
       "      <td>Art</td>\n",
       "      <td>5.5</td>\n",
       "      <td>11.0</td>\n",
       "      <td>29.0</td>\n",
       "      <td>12.0</td>\n",
       "      <td>0.343750</td>\n",
       "    </tr>\n",
       "    <tr>\n",
       "      <th>1</th>\n",
       "      <td>1</td>\n",
       "      <td>2009-11</td>\n",
       "      <td>Art</td>\n",
       "      <td>3.5</td>\n",
       "      <td>4.0</td>\n",
       "      <td>49.0</td>\n",
       "      <td>20.0</td>\n",
       "      <td>0.450000</td>\n",
       "    </tr>\n",
       "    <tr>\n",
       "      <th>2</th>\n",
       "      <td>2</td>\n",
       "      <td>2009-12</td>\n",
       "      <td>Art</td>\n",
       "      <td>11.0</td>\n",
       "      <td>5.5</td>\n",
       "      <td>33.0</td>\n",
       "      <td>13.0</td>\n",
       "      <td>0.431818</td>\n",
       "    </tr>\n",
       "    <tr>\n",
       "      <th>3</th>\n",
       "      <td>3</td>\n",
       "      <td>2010-01</td>\n",
       "      <td>Art</td>\n",
       "      <td>13.5</td>\n",
       "      <td>5.5</td>\n",
       "      <td>34.0</td>\n",
       "      <td>18.0</td>\n",
       "      <td>0.481481</td>\n",
       "    </tr>\n",
       "    <tr>\n",
       "      <th>4</th>\n",
       "      <td>4</td>\n",
       "      <td>2010-02</td>\n",
       "      <td>Art</td>\n",
       "      <td>33.0</td>\n",
       "      <td>6.0</td>\n",
       "      <td>41.0</td>\n",
       "      <td>17.0</td>\n",
       "      <td>0.421053</td>\n",
       "    </tr>\n",
       "  </tbody>\n",
       "</table>\n",
       "</div>"
      ],
      "text/plain": [
       "state  index deadline_month main_category  canceled  failed  successful   All  \\\n",
       "0          0        2009-10           Art       5.5    11.0        29.0  12.0   \n",
       "1          1        2009-11           Art       3.5     4.0        49.0  20.0   \n",
       "2          2        2009-12           Art      11.0     5.5        33.0  13.0   \n",
       "3          3        2010-01           Art      13.5     5.5        34.0  18.0   \n",
       "4          4        2010-02           Art      33.0     6.0        41.0  17.0   \n",
       "\n",
       "state  success_rate  \n",
       "0          0.343750  \n",
       "1          0.450000  \n",
       "2          0.431818  \n",
       "3          0.481481  \n",
       "4          0.421053  "
      ]
     },
     "execution_count": 92,
     "metadata": {},
     "output_type": "execute_result"
    }
   ],
   "source": [
    "df_backers.head()"
   ]
  },
  {
   "cell_type": "code",
   "execution_count": 85,
   "metadata": {},
   "outputs": [
    {
     "data": {
      "text/html": [
       "<div>\n",
       "<style scoped>\n",
       "    .dataframe tbody tr th:only-of-type {\n",
       "        vertical-align: middle;\n",
       "    }\n",
       "\n",
       "    .dataframe tbody tr th {\n",
       "        vertical-align: top;\n",
       "    }\n",
       "\n",
       "    .dataframe thead th {\n",
       "        text-align: right;\n",
       "    }\n",
       "</style>\n",
       "<table border=\"1\" class=\"dataframe\">\n",
       "  <thead>\n",
       "    <tr style=\"text-align: right;\">\n",
       "      <th>state</th>\n",
       "      <th>index</th>\n",
       "      <th>deadline_month</th>\n",
       "      <th>main_category</th>\n",
       "      <th>canceled</th>\n",
       "      <th>failed</th>\n",
       "      <th>successful</th>\n",
       "      <th>All</th>\n",
       "      <th>success_rate</th>\n",
       "    </tr>\n",
       "  </thead>\n",
       "  <tbody>\n",
       "    <tr>\n",
       "      <th>0</th>\n",
       "      <td>0</td>\n",
       "      <td>2009-10</td>\n",
       "      <td>Art</td>\n",
       "      <td>2740.0</td>\n",
       "      <td>3000.0</td>\n",
       "      <td>2000.00</td>\n",
       "      <td>2611.0</td>\n",
       "      <td>0.343750</td>\n",
       "    </tr>\n",
       "    <tr>\n",
       "      <th>1</th>\n",
       "      <td>1</td>\n",
       "      <td>2009-11</td>\n",
       "      <td>Art</td>\n",
       "      <td>6121.5</td>\n",
       "      <td>2000.0</td>\n",
       "      <td>2000.00</td>\n",
       "      <td>2250.0</td>\n",
       "      <td>0.450000</td>\n",
       "    </tr>\n",
       "    <tr>\n",
       "      <th>2</th>\n",
       "      <td>2</td>\n",
       "      <td>2009-12</td>\n",
       "      <td>Art</td>\n",
       "      <td>7000.0</td>\n",
       "      <td>5425.0</td>\n",
       "      <td>1824.79</td>\n",
       "      <td>2500.0</td>\n",
       "      <td>0.431818</td>\n",
       "    </tr>\n",
       "    <tr>\n",
       "      <th>3</th>\n",
       "      <td>3</td>\n",
       "      <td>2010-01</td>\n",
       "      <td>Art</td>\n",
       "      <td>6250.0</td>\n",
       "      <td>5500.0</td>\n",
       "      <td>1200.00</td>\n",
       "      <td>2260.0</td>\n",
       "      <td>0.481481</td>\n",
       "    </tr>\n",
       "    <tr>\n",
       "      <th>4</th>\n",
       "      <td>4</td>\n",
       "      <td>2010-02</td>\n",
       "      <td>Art</td>\n",
       "      <td>8000.0</td>\n",
       "      <td>3500.0</td>\n",
       "      <td>1450.00</td>\n",
       "      <td>3000.0</td>\n",
       "      <td>0.421053</td>\n",
       "    </tr>\n",
       "  </tbody>\n",
       "</table>\n",
       "</div>"
      ],
      "text/plain": [
       "state  index deadline_month main_category  canceled  failed  successful  \\\n",
       "0          0        2009-10           Art    2740.0  3000.0     2000.00   \n",
       "1          1        2009-11           Art    6121.5  2000.0     2000.00   \n",
       "2          2        2009-12           Art    7000.0  5425.0     1824.79   \n",
       "3          3        2010-01           Art    6250.0  5500.0     1200.00   \n",
       "4          4        2010-02           Art    8000.0  3500.0     1450.00   \n",
       "\n",
       "state     All  success_rate  \n",
       "0      2611.0      0.343750  \n",
       "1      2250.0      0.450000  \n",
       "2      2500.0      0.431818  \n",
       "3      2260.0      0.481481  \n",
       "4      3000.0      0.421053  "
      ]
     },
     "execution_count": 85,
     "metadata": {},
     "output_type": "execute_result"
    }
   ],
   "source": [
    "df_goal.head()"
   ]
  },
  {
   "cell_type": "markdown",
   "metadata": {},
   "source": [
    "Concatenate the relevant columns in each dataframe, then change the name of columns that have the same name. Dummify the categorical colummn and drop the first category so that there is no multicollinearity. This category is Art and thus the coefficient for the other categories can be treated as a comparison between the success rate of Art and success rate of that category. Assign independent variables and dependent variable to X and y, respectively.  \n",
    "\n",
    "I want to check if the independent variables are normally distributed. In the case of number of backers this does not seem to be the case, as there is noticeable skewness."
   ]
  },
  {
   "cell_type": "code",
   "execution_count": 98,
   "metadata": {},
   "outputs": [
    {
     "data": {
      "text/plain": [
       "<matplotlib.axes._subplots.AxesSubplot at 0x218d52fa580>"
      ]
     },
     "execution_count": 98,
     "metadata": {},
     "output_type": "execute_result"
    },
    {
     "data": {
      "image/png": "[encoded data removed]",
      "text/plain": [
       "<Figure size 432x288 with 1 Axes>"
      ]
     },
     "metadata": {
      "needs_background": "light"
     },
     "output_type": "display_data"
    }
   ],
   "source": [
    "sns.distplot(df_backers['All'])"
   ]
  },
  {
   "cell_type": "markdown",
   "metadata": {},
   "source": [
    "If I log this column then the skewness goes away."
   ]
  },
  {
   "cell_type": "code",
   "execution_count": 101,
   "metadata": {},
   "outputs": [
    {
     "data": {
      "text/plain": [
       "<matplotlib.axes._subplots.AxesSubplot at 0x218d540f0d0>"
      ]
     },
     "execution_count": 101,
     "metadata": {},
     "output_type": "execute_result"
    },
    {
     "data": {
      "image/png": "[encoded data removed]",
      "text/plain": [
       "<Figure size 432x288 with 1 Axes>"
      ]
     },
     "metadata": {
      "needs_background": "light"
     },
     "output_type": "display_data"
    }
   ],
   "source": [
    "df_backers['log_backers'] = np.log(df_backers['All'])\n",
    "sns.distplot(df_backers['log_backers'])"
   ]
  },
  {
   "cell_type": "code",
   "execution_count": 104,
   "metadata": {},
   "outputs": [],
   "source": [
    "concat_tables = pd.concat([df_goal['main_category'], df_avg_donation['All'], df_goal['All'], df_backers['log_backers'], df_backers['success_rate']], axis = 1)\n",
    "concat_tables.columns = ['main_category', 'average pledge', 'goal', 'log backers', 'success rate']\n",
    "categories = pd.get_dummies(concat_tables['main_category'], drop_first = True)\n",
    "X = concat_tables[['average pledge', 'goal', 'log backers']]\n",
    "X = pd.concat([categories, X], axis = 1)\n",
    "y = concat_tables[['success rate']]"
   ]
  },
  {
   "cell_type": "code",
   "execution_count": 105,
   "metadata": {},
   "outputs": [
    {
     "data": {
      "text/html": [
       "<table class=\"simpletable\">\n",
       "<caption>OLS Regression Results</caption>\n",
       "<tr>\n",
       "  <th>Dep. Variable:</th>      <td>success rate</td>   <th>  R-squared:         </th> <td>   0.828</td> \n",
       "</tr>\n",
       "<tr>\n",
       "  <th>Model:</th>                   <td>OLS</td>       <th>  Adj. R-squared:    </th> <td>   0.826</td> \n",
       "</tr>\n",
       "<tr>\n",
       "  <th>Method:</th>             <td>Least Squares</td>  <th>  F-statistic:       </th> <td>   371.2</td> \n",
       "</tr>\n",
       "<tr>\n",
       "  <th>Date:</th>             <td>Wed, 06 May 2020</td> <th>  Prob (F-statistic):</th> <td>6.00e-315</td>\n",
       "</tr>\n",
       "<tr>\n",
       "  <th>Time:</th>                 <td>09:14:58</td>     <th>  Log-Likelihood:    </th> <td>  1453.9</td> \n",
       "</tr>\n",
       "<tr>\n",
       "  <th>No. Observations:</th>      <td>   859</td>      <th>  AIC:               </th> <td>  -2884.</td> \n",
       "</tr>\n",
       "<tr>\n",
       "  <th>Df Residuals:</th>          <td>   847</td>      <th>  BIC:               </th> <td>  -2827.</td> \n",
       "</tr>\n",
       "<tr>\n",
       "  <th>Df Model:</th>              <td>    11</td>      <th>                     </th>     <td> </td>    \n",
       "</tr>\n",
       "<tr>\n",
       "  <th>Covariance Type:</th>      <td>nonrobust</td>    <th>                     </th>     <td> </td>    \n",
       "</tr>\n",
       "</table>\n",
       "<table class=\"simpletable\">\n",
       "<tr>\n",
       "         <td></td>           <th>coef</th>     <th>std err</th>      <th>t</th>      <th>P>|t|</th>  <th>[0.025</th>    <th>0.975]</th>  \n",
       "</tr>\n",
       "<tr>\n",
       "  <th>const</th>          <td>    0.0799</td> <td>    0.011</td> <td>    7.442</td> <td> 0.000</td> <td>    0.059</td> <td>    0.101</td>\n",
       "</tr>\n",
       "<tr>\n",
       "  <th>Design</th>         <td>   -0.1174</td> <td>    0.008</td> <td>  -14.216</td> <td> 0.000</td> <td>   -0.134</td> <td>   -0.101</td>\n",
       "</tr>\n",
       "<tr>\n",
       "  <th>Fashion</th>        <td>   -0.1099</td> <td>    0.007</td> <td>  -15.734</td> <td> 0.000</td> <td>   -0.124</td> <td>   -0.096</td>\n",
       "</tr>\n",
       "<tr>\n",
       "  <th>Film & Video</th>   <td>   -0.0577</td> <td>    0.007</td> <td>   -7.801</td> <td> 0.000</td> <td>   -0.072</td> <td>   -0.043</td>\n",
       "</tr>\n",
       "<tr>\n",
       "  <th>Food</th>           <td>   -0.0679</td> <td>    0.008</td> <td>   -8.837</td> <td> 0.000</td> <td>   -0.083</td> <td>   -0.053</td>\n",
       "</tr>\n",
       "<tr>\n",
       "  <th>Games</th>          <td>   -0.1114</td> <td>    0.008</td> <td>  -13.236</td> <td> 0.000</td> <td>   -0.128</td> <td>   -0.095</td>\n",
       "</tr>\n",
       "<tr>\n",
       "  <th>Music</th>          <td>    0.0057</td> <td>    0.007</td> <td>    0.865</td> <td> 0.387</td> <td>   -0.007</td> <td>    0.019</td>\n",
       "</tr>\n",
       "<tr>\n",
       "  <th>Publishing</th>     <td>   -0.0732</td> <td>    0.007</td> <td>  -11.161</td> <td> 0.000</td> <td>   -0.086</td> <td>   -0.060</td>\n",
       "</tr>\n",
       "<tr>\n",
       "  <th>Technology</th>     <td>   -0.0815</td> <td>    0.010</td> <td>   -7.868</td> <td> 0.000</td> <td>   -0.102</td> <td>   -0.061</td>\n",
       "</tr>\n",
       "<tr>\n",
       "  <th>average pledge</th> <td>    0.0012</td> <td>    0.000</td> <td>    4.863</td> <td> 0.000</td> <td>    0.001</td> <td>    0.002</td>\n",
       "</tr>\n",
       "<tr>\n",
       "  <th>goal</th>           <td>-7.494e-06</td> <td> 5.75e-07</td> <td>  -13.032</td> <td> 0.000</td> <td>-8.62e-06</td> <td>-6.37e-06</td>\n",
       "</tr>\n",
       "<tr>\n",
       "  <th>log backers</th>    <td>    0.1160</td> <td>    0.004</td> <td>   33.022</td> <td> 0.000</td> <td>    0.109</td> <td>    0.123</td>\n",
       "</tr>\n",
       "</table>\n",
       "<table class=\"simpletable\">\n",
       "<tr>\n",
       "  <th>Omnibus:</th>       <td>100.717</td> <th>  Durbin-Watson:     </th> <td>   1.594</td> \n",
       "</tr>\n",
       "<tr>\n",
       "  <th>Prob(Omnibus):</th> <td> 0.000</td>  <th>  Jarque-Bera (JB):  </th> <td> 802.129</td> \n",
       "</tr>\n",
       "<tr>\n",
       "  <th>Skew:</th>          <td>-0.147</td>  <th>  Prob(JB):          </th> <td>6.61e-175</td>\n",
       "</tr>\n",
       "<tr>\n",
       "  <th>Kurtosis:</th>      <td> 7.725</td>  <th>  Cond. No.          </th> <td>1.02e+05</td> \n",
       "</tr>\n",
       "</table><br/><br/>Warnings:<br/>[1] Standard Errors assume that the covariance matrix of the errors is correctly specified.<br/>[2] The condition number is large, 1.02e+05. This might indicate that there are<br/>strong multicollinearity or other numerical problems."
      ],
      "text/plain": [
       "<class 'statsmodels.iolib.summary.Summary'>\n",
       "\"\"\"\n",
       "                            OLS Regression Results                            \n",
       "==============================================================================\n",
       "Dep. Variable:           success rate   R-squared:                       0.828\n",
       "Model:                            OLS   Adj. R-squared:                  0.826\n",
       "Method:                 Least Squares   F-statistic:                     371.2\n",
       "Date:                Wed, 06 May 2020   Prob (F-statistic):          6.00e-315\n",
       "Time:                        09:14:58   Log-Likelihood:                 1453.9\n",
       "No. Observations:                 859   AIC:                            -2884.\n",
       "Df Residuals:                     847   BIC:                            -2827.\n",
       "Df Model:                          11                                         \n",
       "Covariance Type:            nonrobust                                         \n",
       "==================================================================================\n",
       "                     coef    std err          t      P>|t|      [0.025      0.975]\n",
       "----------------------------------------------------------------------------------\n",
       "const              0.0799      0.011      7.442      0.000       0.059       0.101\n",
       "Design            -0.1174      0.008    -14.216      0.000      -0.134      -0.101\n",
       "Fashion           -0.1099      0.007    -15.734      0.000      -0.124      -0.096\n",
       "Film & Video      -0.0577      0.007     -7.801      0.000      -0.072      -0.043\n",
       "Food              -0.0679      0.008     -8.837      0.000      -0.083      -0.053\n",
       "Games             -0.1114      0.008    -13.236      0.000      -0.128      -0.095\n",
       "Music              0.0057      0.007      0.865      0.387      -0.007       0.019\n",
       "Publishing        -0.0732      0.007    -11.161      0.000      -0.086      -0.060\n",
       "Technology        -0.0815      0.010     -7.868      0.000      -0.102      -0.061\n",
       "average pledge     0.0012      0.000      4.863      0.000       0.001       0.002\n",
       "goal           -7.494e-06   5.75e-07    -13.032      0.000   -8.62e-06   -6.37e-06\n",
       "log backers        0.1160      0.004     33.022      0.000       0.109       0.123\n",
       "==============================================================================\n",
       "Omnibus:                      100.717   Durbin-Watson:                   1.594\n",
       "Prob(Omnibus):                  0.000   Jarque-Bera (JB):              802.129\n",
       "Skew:                          -0.147   Prob(JB):                    6.61e-175\n",
       "Kurtosis:                       7.725   Cond. No.                     1.02e+05\n",
       "==============================================================================\n",
       "\n",
       "Warnings:\n",
       "[1] Standard Errors assume that the covariance matrix of the errors is correctly specified.\n",
       "[2] The condition number is large, 1.02e+05. This might indicate that there are\n",
       "strong multicollinearity or other numerical problems.\n",
       "\"\"\""
      ]
     },
     "execution_count": 105,
     "metadata": {},
     "output_type": "execute_result"
    }
   ],
   "source": [
    "X = sm.add_constant(X)\n",
    "model = sm.OLS(y, X).fit()\n",
    "model.summary()"
   ]
  },
  {
   "cell_type": "code",
   "execution_count": null,
   "metadata": {},
   "outputs": [],
   "source": []
  }
 ],
 "metadata": {
  "kernelspec": {
   "display_name": "Python 3",
   "language": "python",
   "name": "python3"
  },
  "language_info": {
   "codemirror_mode": {
    "name": "ipython",
    "version": 3
   },
   "file_extension": ".py",
   "mimetype": "text/x-python",
   "name": "python",
   "nbconvert_exporter": "python",
   "pygments_lexer": "ipython3",
   "version": "3.8.2"
  }
 },
 "nbformat": 4,
 "nbformat_minor": 4
}
